{
 "cells": [
  {
   "cell_type": "markdown",
   "metadata": {},
   "source": [
    "# Text Scraping and Classification"
   ]
  },
  {
   "cell_type": "markdown",
   "metadata": {},
   "source": [
    "## Akash Srivastava\n",
    "## 17201082"
   ]
  },
  {
   "cell_type": "markdown",
   "metadata": {},
   "source": [
    "###### Importing the required packages"
   ]
  },
  {
   "cell_type": "code",
   "execution_count": 1,
   "metadata": {
    "collapsed": true
   },
   "outputs": [],
   "source": [
    "import urllib.request\n",
    "import bs4\n",
    "from sklearn.feature_extraction.text import CountVectorizer\n",
    "from sklearn.feature_extraction import text\n",
    "from nltk.stem import PorterStemmer\n",
    "from sklearn.feature_extraction.text import TfidfVectorizer\n",
    "from sklearn.model_selection import KFold\n",
    "from sklearn.model_selection import train_test_split\n",
    "from sklearn import svm\n",
    "from sklearn import neighbors\n",
    "from sklearn.neighbors import KNeighborsClassifier\n",
    "from sklearn.naive_bayes import GaussianNB\n",
    "from sklearn import metrics\n",
    "import numpy as np\n",
    "import matplotlib.pyplot as plt\n",
    "%matplotlib inline\n",
    "import pandas as pd\n",
    "import os"
   ]
  },
  {
   "cell_type": "markdown",
   "metadata": {},
   "source": [
    "## Task 1: Web Scrapping"
   ]
  },
  {
   "cell_type": "markdown",
   "metadata": {},
   "source": [
    "##### Function to take the url for each category and return the url containing review for each business"
   ]
  },
  {
   "cell_type": "code",
   "execution_count": 2,
   "metadata": {
    "collapsed": true
   },
   "outputs": [],
   "source": [
    "def getData(pageUrl):\n",
    "    rspn = urllib.request.urlopen(pageUrl)\n",
    "    category = rspn.read().decode()\n",
    "    homePage = bs4.BeautifulSoup(category,\"html.parser\")\n",
    "\n",
    "    urlPrefix = \"http://mlg.ucd.ie/modules/yalp/\"\n",
    "    anchors = []\n",
    "    anchText = []\n",
    "    for anchor in homePage.find_all(\"a\", href=True):\n",
    "        anch = anchor['href'] \n",
    "    \n",
    "        if anch !='': # filtering blank anchor tags\n",
    "            anchors.append(urlPrefix+anch) #urls of each Business\n",
    "            anchText.append(anchor.text.replace(':','-')) # names of each business\n",
    "    return anchText,anchors"
   ]
  },
  {
   "cell_type": "markdown",
   "metadata": {},
   "source": [
    "##### Function to create a csv file for each category of reviews"
   ]
  },
  {
   "cell_type": "code",
   "execution_count": 3,
   "metadata": {
    "collapsed": true
   },
   "outputs": [],
   "source": [
    "# function to crete a file for each category\n",
    "def createFile(url,path):\n",
    "    rspn = urllib.request.urlopen(url)\n",
    "    cat = rspn.read().decode()\n",
    "    page = bs4.BeautifulSoup(cat,\"html.parser\")\n",
    "    #print(page)\n",
    "    \n",
    "    ##################\n",
    "    # retirieving stars for each review\n",
    "    for ab in page.find_all('img',alt=True):\n",
    "        star=ab['alt']\n",
    "        star=star[:1]\n",
    "        if int(star) >3:\n",
    "            stars.append(\"positive\")\n",
    "        else:\n",
    "            stars.append(\"negative\")\n",
    "    # retrieving the review text\n",
    "    for abc in page.find_all('p',{'class':\"text\"}):\n",
    "        review=abc.contents\n",
    "        review=str(review)[2:]\n",
    "        review=review[:-2]\n",
    "        reviews.append(review)\n",
    "        #print(abc.contents)"
   ]
  },
  {
   "cell_type": "markdown",
   "metadata": {},
   "source": [
    "##### Creating csv files for each review category"
   ]
  },
  {
   "cell_type": "code",
   "execution_count": 4,
   "metadata": {
    "collapsed": true
   },
   "outputs": [],
   "source": [
    "dirname = os.getcwd()\n",
    "pageUrl_automotive = \"http://mlg.ucd.ie/modules/yalp/automotive_list.html\" # url for category automotive\n",
    "auto_path=os.path.join(dirname,\"review_automotive.csv\") # path to save automotive review as csv\n",
    "pageUrl_bar = \"http://mlg.ucd.ie/modules/yalp/bars_list.html\" # url for category bars\n",
    "bar_path=os.path.join(dirname,\"review_bars.csv\") # path to save bars reviews as csv\n",
    "\n",
    "stars=[]\n",
    "reviews=[]\n",
    "anchText,anchors=getData(pageUrl_automotive)\n",
    "i=0\n",
    "path = dirname\n",
    "for paths in anchText:  # for each business in automotive, geting reviews\n",
    "    createFile(anchors[i],path+paths)\n",
    "    i=i+1\n",
    "data=pd.DataFrame({'review':reviews,'star':stars}) #creating the dataframe for automotive reviews\n",
    "data.to_csv(auto_path,index=False) # storing the dataframe as csv \n",
    "\n",
    "\n",
    "\n",
    "stars=[]\n",
    "reviews=[]\n",
    "anchText,anchors=getData(pageUrl_bar)\n",
    "i=0\n",
    "for paths in anchText: # for each business in bars getiing reviews\n",
    "    createFile(anchors[i],path+paths)\n",
    "    i=i+1\n",
    "\n",
    "data=pd.DataFrame({'review':reviews,'star':stars}) # creating the dataframe for bars review\n",
    "data.to_csv(bar_path,index=False) # storing the datafra,e as csv\n"
   ]
  },
  {
   "cell_type": "markdown",
   "metadata": {},
   "source": [
    "##### Joining the automotive and bars revies into one dataframe."
   ]
  },
  {
   "cell_type": "markdown",
   "metadata": {},
   "source": [
    "The two category of review are joined because if they are not joined, the model constructed on each would accept different shape of input and in task three this will be a pproblem."
   ]
  },
  {
   "cell_type": "code",
   "execution_count": 5,
   "metadata": {},
   "outputs": [
    {
     "data": {
      "text/plain": [
       "(1455, 2)"
      ]
     },
     "execution_count": 5,
     "metadata": {},
     "output_type": "execute_result"
    }
   ],
   "source": [
    "data_automotive = pd.read_csv(os.path.join(dirname,\"review_automotive.csv\"),encoding= \"ISO-8859-1\")\n",
    "data_automotive.shape"
   ]
  },
  {
   "cell_type": "code",
   "execution_count": 6,
   "metadata": {},
   "outputs": [
    {
     "data": {
      "text/plain": [
       "(1460, 2)"
      ]
     },
     "execution_count": 6,
     "metadata": {},
     "output_type": "execute_result"
    }
   ],
   "source": [
    "data_bars = pd.read_csv(os.path.join(dirname,\"review_bars.csv\"),encoding= \"ISO-8859-1\")\n",
    "data_bars.shape"
   ]
  },
  {
   "cell_type": "code",
   "execution_count": 7,
   "metadata": {},
   "outputs": [
    {
     "data": {
      "text/plain": [
       "(2915, 2)"
      ]
     },
     "execution_count": 7,
     "metadata": {},
     "output_type": "execute_result"
    }
   ],
   "source": [
    "data_all=pd.concat([data_automotive,data_bars]) # joining the two categories dataframe into one\n",
    "data_all.shape"
   ]
  },
  {
   "cell_type": "markdown",
   "metadata": {},
   "source": [
    "## Task 2 : Review Classification"
   ]
  },
  {
   "cell_type": "markdown",
   "metadata": {},
   "source": [
    "##### Checking for null values in the dataframe"
   ]
  },
  {
   "cell_type": "code",
   "execution_count": 8,
   "metadata": {},
   "outputs": [
    {
     "data": {
      "text/plain": [
       "review    0\n",
       "star      0\n",
       "dtype: int64"
      ]
     },
     "execution_count": 8,
     "metadata": {},
     "output_type": "execute_result"
    }
   ],
   "source": [
    "data_all.isnull().sum()"
   ]
  },
  {
   "cell_type": "markdown",
   "metadata": {},
   "source": [
    "No null values are found"
   ]
  },
  {
   "cell_type": "markdown",
   "metadata": {},
   "source": [
    "### Preprocessing of Data"
   ]
  },
  {
   "cell_type": "markdown",
   "metadata": {},
   "source": [
    "##### Tokenization"
   ]
  },
  {
   "cell_type": "markdown",
   "metadata": {},
   "source": [
    "###### Function to tokenize the data"
   ]
  },
  {
   "cell_type": "code",
   "execution_count": 9,
   "metadata": {
    "collapsed": true
   },
   "outputs": [],
   "source": [
    "def tokenizer(data):\n",
    "    tokenize = CountVectorizer().build_tokenizer() # create tokenizer\n",
    "    reviewTokens = []\n",
    "    for review in data: # for each review in the dataframe\n",
    "        lowerReviews = review.lower() #converting review to lowercase \"Normalization\"\n",
    "        reviewTokens.append(tokenize(lowerReviews)) \n",
    "    return reviewTokens"
   ]
  },
  {
   "cell_type": "markdown",
   "metadata": {},
   "source": [
    "##### Removing Stopwords"
   ]
  },
  {
   "cell_type": "markdown",
   "metadata": {},
   "source": [
    "###### Function to remove the stop words from the review"
   ]
  },
  {
   "cell_type": "code",
   "execution_count": 10,
   "metadata": {
    "collapsed": true
   },
   "outputs": [],
   "source": [
    "def stopWordRemoval(data):\n",
    "    stopwords = text.ENGLISH_STOP_WORDS #defining 'english' language stopwords\n",
    "    reviewList = []\n",
    "    for tokenisedArray in data:\n",
    "        filteredWords = []\n",
    "        for word in tokenisedArray:\n",
    "            if word not in stopwords:\n",
    "                filteredWords.append(word)# adding words for each review after stopword removal to alist\n",
    "        reviewList.append(filteredWords) # adding the review after stop word removal\n",
    "    return reviewList"
   ]
  },
  {
   "cell_type": "markdown",
   "metadata": {},
   "source": [
    "#####  Stemming"
   ]
  },
  {
   "cell_type": "markdown",
   "metadata": {},
   "source": [
    "###### Function to get the list of  stemmed words "
   ]
  },
  {
   "cell_type": "code",
   "execution_count": 11,
   "metadata": {
    "collapsed": true
   },
   "outputs": [],
   "source": [
    "def stemming(data):\n",
    "    stemmer = PorterStemmer() # Stemmer creation\n",
    "    stemList = []\n",
    "    for stemArray in data:\n",
    "        stemmedWords = []\n",
    "        for word in stemArray:\n",
    "            stemmedWords.append(stemmer.stem(word)) # adding words for each review after stemming to a list\n",
    "        stemList.append(stemmedWords) # adding the stemmed review to a list\n",
    "    return stemList"
   ]
  },
  {
   "cell_type": "code",
   "execution_count": 12,
   "metadata": {
    "collapsed": true
   },
   "outputs": [],
   "source": [
    "review=data_all.review.tolist() # converting the dataframe to a list\n",
    "\n",
    "tokenised_data=tokenizer(review) # tokenizing \n",
    "\n",
    "data_stop=stopWordRemoval(tokenised_data) # removing stop words \n",
    "\n",
    "stemmed_data=stemming(data_stop) # stemming\n"
   ]
  },
  {
   "cell_type": "markdown",
   "metadata": {},
   "source": [
    "### Document term Matrix"
   ]
  },
  {
   "cell_type": "markdown",
   "metadata": {},
   "source": [
    "##### Function to create Tf-idf "
   ]
  },
  {
   "cell_type": "code",
   "execution_count": 13,
   "metadata": {},
   "outputs": [
    {
     "name": "stderr",
     "output_type": "stream",
     "text": [
      "C:\\Users\\Akash Srivastava\\Anaconda3\\lib\\site-packages\\sklearn\\feature_extraction\\text.py:1059: FutureWarning: Conversion of the second argument of issubdtype from `float` to `np.floating` is deprecated. In future, it will be treated as `np.float64 == np.dtype(float).type`.\n",
      "  if hasattr(X, 'dtype') and np.issubdtype(X.dtype, np.float):\n"
     ]
    }
   ],
   "source": [
    "def tfidf(data,dataCategory):\n",
    "    reviewCombined = []\n",
    "    for lists in data:\n",
    "        file = ' '.join(lists) # combining the each review list back to form a review\n",
    "        reviewCombined.append(file)\n",
    "\n",
    "    vectorizer = TfidfVectorizer() # creating tfidf vectorizer\n",
    "    X = vectorizer.fit_transform(reviewCombined).toarray()\n",
    "    Y = dataCategory.star.values\n",
    "    return X,Y,vectorizer\n",
    "\n",
    "\n",
    "X,Y,vect=tfidf(stemmed_data,data_all) # calling method to get tfidf"
   ]
  },
  {
   "cell_type": "code",
   "execution_count": 14,
   "metadata": {
    "scrolled": true
   },
   "outputs": [
    {
     "data": {
      "text/html": [
       "<div>\n",
       "<style>\n",
       "    .dataframe thead tr:only-child th {\n",
       "        text-align: right;\n",
       "    }\n",
       "\n",
       "    .dataframe thead th {\n",
       "        text-align: left;\n",
       "    }\n",
       "\n",
       "    .dataframe tbody tr th {\n",
       "        vertical-align: top;\n",
       "    }\n",
       "</style>\n",
       "<table border=\"1\" class=\"dataframe\">\n",
       "  <thead>\n",
       "    <tr style=\"text-align: right;\">\n",
       "      <th></th>\n",
       "      <th>00</th>\n",
       "      <th>000</th>\n",
       "      <th>00am</th>\n",
       "      <th>00p</th>\n",
       "      <th>00pm</th>\n",
       "      <th>01</th>\n",
       "      <th>02</th>\n",
       "      <th>03</th>\n",
       "      <th>0381</th>\n",
       "      <th>04</th>\n",
       "      <th>...</th>\n",
       "      <th>était</th>\n",
       "      <th>étalé</th>\n",
       "      <th>étant</th>\n",
       "      <th>étion</th>\n",
       "      <th>étoil</th>\n",
       "      <th>étrang</th>\n",
       "      <th>été</th>\n",
       "      <th>évidem</th>\n",
       "      <th>être</th>\n",
       "      <th>ïrratat</th>\n",
       "    </tr>\n",
       "    <tr>\n",
       "      <th>review</th>\n",
       "      <th></th>\n",
       "      <th></th>\n",
       "      <th></th>\n",
       "      <th></th>\n",
       "      <th></th>\n",
       "      <th></th>\n",
       "      <th></th>\n",
       "      <th></th>\n",
       "      <th></th>\n",
       "      <th></th>\n",
       "      <th></th>\n",
       "      <th></th>\n",
       "      <th></th>\n",
       "      <th></th>\n",
       "      <th></th>\n",
       "      <th></th>\n",
       "      <th></th>\n",
       "      <th></th>\n",
       "      <th></th>\n",
       "      <th></th>\n",
       "      <th></th>\n",
       "    </tr>\n",
       "  </thead>\n",
       "  <tbody>\n",
       "    <tr>\n",
       "      <th>I arrived at 3 PM and the dealership closed at 6 I thought I had left plenty of time to purchase a vehicle they were understaffed. The sales manager assisted me in allowing me to test drive and then had my vehicle appraised while a salesman freed up, I appreciated him taking the initiative. My financing went through in 15 minuets and I signed by 6PM. My salesman stayed and setup my car along with showing me all the options until 7:30PM never once making me feel rushed or like an imposition, I honestly appreciate the customer service they provided.</th>\n",
       "      <td>0.0</td>\n",
       "      <td>0.0</td>\n",
       "      <td>0.0</td>\n",
       "      <td>0.0</td>\n",
       "      <td>0.0</td>\n",
       "      <td>0.0</td>\n",
       "      <td>0.0</td>\n",
       "      <td>0.0</td>\n",
       "      <td>0.0</td>\n",
       "      <td>0.0</td>\n",
       "      <td>...</td>\n",
       "      <td>0.0</td>\n",
       "      <td>0.0</td>\n",
       "      <td>0.0</td>\n",
       "      <td>0.0</td>\n",
       "      <td>0.0</td>\n",
       "      <td>0.0</td>\n",
       "      <td>0.0</td>\n",
       "      <td>0.0</td>\n",
       "      <td>0.0</td>\n",
       "      <td>0.0</td>\n",
       "    </tr>\n",
       "    <tr>\n",
       "      <th>I dropped my car off on a Wednesday morning for a diagnostic with John Salmon. I was told I would receive a call Thursday morning around 10 am. After not receiving that call, I proceeded to call several times over the next several days and after nobody responded, I went to the dealership but no one is there on Saturday. After my second trip up on Monday, one of the service advisers, Jerry, looked into the situation for me. After 10 minutes he came back and said that he doesn't know all the details, but found out that my car had been in an accident 4 days prior. I was in shock. He had no idea why I was not informed and told me the manager, Brian, would be in touch with me. The manager did call the next morning, but left a message without any details and just said to call him back. Which I did an hour later, and was told he left early for the day. He called me the next day, in the morning, and again left a message without any details. I proceeded to call him several times throughout that day without a call back. I left a message asking if he could meet at 4 pm, no response. I went to the dealership at 4 pm where I received a phone call from him at 4:05 saying he was not able to meet because he was leaving and will not be in the next day either. I told him I was there. He came to the service station and very lightly and without detail just said my car was in an accident and that they are going to fix it. All he said it was swiped against another car, needs a new bumper, headlight, and they would fix the alternator for free. I was frustrated and demanded more detail from him as he was trying to rush me out the door to get on his way. I stood my ground and demanded to know more details, asked why I have not been offered a loaner car, and need my car to be fixed so that it doesn't look like it was just in an accident. He agreed, told me the car would be in the shop for another week, and sent me on my way laughing that my car would look better after everything then it did before and blaming the reason I wasn't informed about the accident on John Salmon for being out sick. I was never offered an accident report, never saw any pictures, and when I finally received my car back it had over spray all over the engine. 2.5 weeks in the shop when it was dropped off for a diagnostic. 3 trips to the dealership and lots of phone calls just trying to find out what was going on with my car. 7 days to corner the manager and find out what happened and when I'll get my car back. 2.5 weeks in the shop. Zero respect from the manager and no accident or repair reports for my records. I will never go back there and deal with Brian, the Cadillac service manager, again. Nor will anyone I have told my story to. Extremely unprofessional and disgusting the way that place handles business. ***TL;DR: Dropped my car off for a diagnostic. They wrecked it. Didn't tell me for 6 days and ignored all my messages. I had to corner the manager, Brian, in the service station and demand to know what happened, when I'll get my car back, and a loaner car since they did not offer up either. 2.5 weeks to get my car back and had over spray all over it since they had to replace the bumper and headlights. This place is awful.***</th>\n",
       "      <td>0.0</td>\n",
       "      <td>0.0</td>\n",
       "      <td>0.0</td>\n",
       "      <td>0.0</td>\n",
       "      <td>0.0</td>\n",
       "      <td>0.0</td>\n",
       "      <td>0.0</td>\n",
       "      <td>0.0</td>\n",
       "      <td>0.0</td>\n",
       "      <td>0.0</td>\n",
       "      <td>...</td>\n",
       "      <td>0.0</td>\n",
       "      <td>0.0</td>\n",
       "      <td>0.0</td>\n",
       "      <td>0.0</td>\n",
       "      <td>0.0</td>\n",
       "      <td>0.0</td>\n",
       "      <td>0.0</td>\n",
       "      <td>0.0</td>\n",
       "      <td>0.0</td>\n",
       "      <td>0.0</td>\n",
       "    </tr>\n",
       "    <tr>\n",
       "      <th>My parents have been buying cars off of Donna Dunnivan for over a decade and have always been satisfied. I just got my first new car courtesy of Donna and I couldn't have been more pleased with the transaction! Things went very smoothly and she walked me through the set up even after Cochran has closed up the showrooms. She went above and beyond to get me my new vehicle that night and I have nothing but good things to say about the sale. I'm sure I'll be back to see her for my next one!</th>\n",
       "      <td>0.0</td>\n",
       "      <td>0.0</td>\n",
       "      <td>0.0</td>\n",
       "      <td>0.0</td>\n",
       "      <td>0.0</td>\n",
       "      <td>0.0</td>\n",
       "      <td>0.0</td>\n",
       "      <td>0.0</td>\n",
       "      <td>0.0</td>\n",
       "      <td>0.0</td>\n",
       "      <td>...</td>\n",
       "      <td>0.0</td>\n",
       "      <td>0.0</td>\n",
       "      <td>0.0</td>\n",
       "      <td>0.0</td>\n",
       "      <td>0.0</td>\n",
       "      <td>0.0</td>\n",
       "      <td>0.0</td>\n",
       "      <td>0.0</td>\n",
       "      <td>0.0</td>\n",
       "      <td>0.0</td>\n",
       "    </tr>\n",
       "    <tr>\n",
       "      <th>I recently bought another car from Donna Dunnivan at #1 Cochran, and I can't rave enough about the wonderful service she provided me yet again! DJ, as she is fondly called, always goes the extra mile to get her customers every answer needed in purchasing a car. I had the same experience in 2005 when I bought my Saab from her. Her attention to the service of her customers truly makes her an invaluable and an incredible car sales person! I used to dread the experience of buying cars before meeting DJ. I no longer feel that way with Donna Dunnivan at #1 Cochran. I refer many to her to buy cars, and they always come back to me sharing similar experiences. I will continue to buy cars from her for a long time to come!!</th>\n",
       "      <td>0.0</td>\n",
       "      <td>0.0</td>\n",
       "      <td>0.0</td>\n",
       "      <td>0.0</td>\n",
       "      <td>0.0</td>\n",
       "      <td>0.0</td>\n",
       "      <td>0.0</td>\n",
       "      <td>0.0</td>\n",
       "      <td>0.0</td>\n",
       "      <td>0.0</td>\n",
       "      <td>...</td>\n",
       "      <td>0.0</td>\n",
       "      <td>0.0</td>\n",
       "      <td>0.0</td>\n",
       "      <td>0.0</td>\n",
       "      <td>0.0</td>\n",
       "      <td>0.0</td>\n",
       "      <td>0.0</td>\n",
       "      <td>0.0</td>\n",
       "      <td>0.0</td>\n",
       "      <td>0.0</td>\n",
       "    </tr>\n",
       "    <tr>\n",
       "      <th>I had to schedule an appointment due to the airbag recall. I used the website, which was straight forward. I dropped off the car at 8am and I requested that my car be fixed by 1pm that day. When I called at 1pm to check the status, the car was ready. It was nice to know they were able to keep their promised.</th>\n",
       "      <td>0.0</td>\n",
       "      <td>0.0</td>\n",
       "      <td>0.0</td>\n",
       "      <td>0.0</td>\n",
       "      <td>0.0</td>\n",
       "      <td>0.0</td>\n",
       "      <td>0.0</td>\n",
       "      <td>0.0</td>\n",
       "      <td>0.0</td>\n",
       "      <td>0.0</td>\n",
       "      <td>...</td>\n",
       "      <td>0.0</td>\n",
       "      <td>0.0</td>\n",
       "      <td>0.0</td>\n",
       "      <td>0.0</td>\n",
       "      <td>0.0</td>\n",
       "      <td>0.0</td>\n",
       "      <td>0.0</td>\n",
       "      <td>0.0</td>\n",
       "      <td>0.0</td>\n",
       "      <td>0.0</td>\n",
       "    </tr>\n",
       "    <tr>\n",
       "      <th>Leslie, Your and your team should review my correspondence with your dealership. You missed, and admittedly I didn't clearly elaborate on in my review, one of the key failures on Cochran's part. Dodging my review by misplacing blame on me being in Japan was a nice touch. That being said, my being in Japan was largely irrelevant. I made it abundantly clear, several times, from the very first time I made contact, that I COULD NOT BE REACHED BY PHONE. I believe I mentioned this at least three times in written messages, and twice by phone (I was able to dial out using Skype). Despite this, one of your salesman, Bruce Auth, tried twice to call my phone but never reached out by email until the 6th day. My request for the build sheet was not even something that could be relayed by phone. So why was he trying to call anyway? I also requested a rough trade in value for my Escalade, which I provided a ridiculously in depth description of. I never received that.</th>\n",
       "      <td>0.0</td>\n",
       "      <td>0.0</td>\n",
       "      <td>0.0</td>\n",
       "      <td>0.0</td>\n",
       "      <td>0.0</td>\n",
       "      <td>0.0</td>\n",
       "      <td>0.0</td>\n",
       "      <td>0.0</td>\n",
       "      <td>0.0</td>\n",
       "      <td>0.0</td>\n",
       "      <td>...</td>\n",
       "      <td>0.0</td>\n",
       "      <td>0.0</td>\n",
       "      <td>0.0</td>\n",
       "      <td>0.0</td>\n",
       "      <td>0.0</td>\n",
       "      <td>0.0</td>\n",
       "      <td>0.0</td>\n",
       "      <td>0.0</td>\n",
       "      <td>0.0</td>\n",
       "      <td>0.0</td>\n",
       "    </tr>\n",
       "    <tr>\n",
       "      <th>We called to ask if they had any red Escalades because we were ready to buy that day. We didn't want to wait because our other vehicle had broken down beyond reasonable repair. They said yes so we made the 30 min trip to Monroeville. We get there and they try to show us other vehicles. After about 10 minutes, we were told they didn't have any red Escalades and that it'd have to be ordered. We walked out. Wasted an hour of driving for this crap dealership and service.</th>\n",
       "      <td>0.0</td>\n",
       "      <td>0.0</td>\n",
       "      <td>0.0</td>\n",
       "      <td>0.0</td>\n",
       "      <td>0.0</td>\n",
       "      <td>0.0</td>\n",
       "      <td>0.0</td>\n",
       "      <td>0.0</td>\n",
       "      <td>0.0</td>\n",
       "      <td>0.0</td>\n",
       "      <td>...</td>\n",
       "      <td>0.0</td>\n",
       "      <td>0.0</td>\n",
       "      <td>0.0</td>\n",
       "      <td>0.0</td>\n",
       "      <td>0.0</td>\n",
       "      <td>0.0</td>\n",
       "      <td>0.0</td>\n",
       "      <td>0.0</td>\n",
       "      <td>0.0</td>\n",
       "      <td>0.0</td>\n",
       "    </tr>\n",
       "    <tr>\n",
       "      <th>Update on my review. Scott the initial salesperson has been in contact with me and will rectify this situation! I recommend #1 Cochran for any future auto needs</th>\n",
       "      <td>0.0</td>\n",
       "      <td>0.0</td>\n",
       "      <td>0.0</td>\n",
       "      <td>0.0</td>\n",
       "      <td>0.0</td>\n",
       "      <td>0.0</td>\n",
       "      <td>0.0</td>\n",
       "      <td>0.0</td>\n",
       "      <td>0.0</td>\n",
       "      <td>0.0</td>\n",
       "      <td>...</td>\n",
       "      <td>0.0</td>\n",
       "      <td>0.0</td>\n",
       "      <td>0.0</td>\n",
       "      <td>0.0</td>\n",
       "      <td>0.0</td>\n",
       "      <td>0.0</td>\n",
       "      <td>0.0</td>\n",
       "      <td>0.0</td>\n",
       "      <td>0.0</td>\n",
       "      <td>0.0</td>\n",
       "    </tr>\n",
       "    <tr>\n",
       "      <th>If you're planning on buying a Cadillac, See Lee Plimpton. I just signed the paperwork for my second Cadillac from Lee. I plan on always buying my vehicles from him.</th>\n",
       "      <td>0.0</td>\n",
       "      <td>0.0</td>\n",
       "      <td>0.0</td>\n",
       "      <td>0.0</td>\n",
       "      <td>0.0</td>\n",
       "      <td>0.0</td>\n",
       "      <td>0.0</td>\n",
       "      <td>0.0</td>\n",
       "      <td>0.0</td>\n",
       "      <td>0.0</td>\n",
       "      <td>...</td>\n",
       "      <td>0.0</td>\n",
       "      <td>0.0</td>\n",
       "      <td>0.0</td>\n",
       "      <td>0.0</td>\n",
       "      <td>0.0</td>\n",
       "      <td>0.0</td>\n",
       "      <td>0.0</td>\n",
       "      <td>0.0</td>\n",
       "      <td>0.0</td>\n",
       "      <td>0.0</td>\n",
       "    </tr>\n",
       "    <tr>\n",
       "      <th>Such a great experience! The staff were very nice and helped me out a lot with a reasonable price. I definitely recommend going to 1st choice transmissions! Fast and reliable!</th>\n",
       "      <td>0.0</td>\n",
       "      <td>0.0</td>\n",
       "      <td>0.0</td>\n",
       "      <td>0.0</td>\n",
       "      <td>0.0</td>\n",
       "      <td>0.0</td>\n",
       "      <td>0.0</td>\n",
       "      <td>0.0</td>\n",
       "      <td>0.0</td>\n",
       "      <td>0.0</td>\n",
       "      <td>...</td>\n",
       "      <td>0.0</td>\n",
       "      <td>0.0</td>\n",
       "      <td>0.0</td>\n",
       "      <td>0.0</td>\n",
       "      <td>0.0</td>\n",
       "      <td>0.0</td>\n",
       "      <td>0.0</td>\n",
       "      <td>0.0</td>\n",
       "      <td>0.0</td>\n",
       "      <td>0.0</td>\n",
       "    </tr>\n",
       "  </tbody>\n",
       "</table>\n",
       "<p>10 rows × 9524 columns</p>\n",
       "</div>"
      ],
      "text/plain": [
       "                                                     00  000  00am  00p  00pm  \\\n",
       "review                                                                          \n",
       "I arrived at 3 PM and the dealership closed at ...  0.0  0.0   0.0  0.0   0.0   \n",
       "I dropped my car off on a Wednesday morning for...  0.0  0.0   0.0  0.0   0.0   \n",
       "My parents have been buying cars off of Donna D...  0.0  0.0   0.0  0.0   0.0   \n",
       "I recently bought another car from Donna Dunniv...  0.0  0.0   0.0  0.0   0.0   \n",
       "I had to schedule an appointment due to the air...  0.0  0.0   0.0  0.0   0.0   \n",
       "Leslie, Your and your team should review my cor...  0.0  0.0   0.0  0.0   0.0   \n",
       "We called to ask if they had any red Escalades ...  0.0  0.0   0.0  0.0   0.0   \n",
       "Update on my review. Scott the initial salesper...  0.0  0.0   0.0  0.0   0.0   \n",
       "If you're planning on buying a Cadillac, See Le...  0.0  0.0   0.0  0.0   0.0   \n",
       "Such a great experience! The staff were very ni...  0.0  0.0   0.0  0.0   0.0   \n",
       "\n",
       "                                                     01   02   03  0381   04  \\\n",
       "review                                                                         \n",
       "I arrived at 3 PM and the dealership closed at ...  0.0  0.0  0.0   0.0  0.0   \n",
       "I dropped my car off on a Wednesday morning for...  0.0  0.0  0.0   0.0  0.0   \n",
       "My parents have been buying cars off of Donna D...  0.0  0.0  0.0   0.0  0.0   \n",
       "I recently bought another car from Donna Dunniv...  0.0  0.0  0.0   0.0  0.0   \n",
       "I had to schedule an appointment due to the air...  0.0  0.0  0.0   0.0  0.0   \n",
       "Leslie, Your and your team should review my cor...  0.0  0.0  0.0   0.0  0.0   \n",
       "We called to ask if they had any red Escalades ...  0.0  0.0  0.0   0.0  0.0   \n",
       "Update on my review. Scott the initial salesper...  0.0  0.0  0.0   0.0  0.0   \n",
       "If you're planning on buying a Cadillac, See Le...  0.0  0.0  0.0   0.0  0.0   \n",
       "Such a great experience! The staff were very ni...  0.0  0.0  0.0   0.0  0.0   \n",
       "\n",
       "                                                     ...     était  étalé  \\\n",
       "review                                               ...                    \n",
       "I arrived at 3 PM and the dealership closed at ...   ...       0.0    0.0   \n",
       "I dropped my car off on a Wednesday morning for...   ...       0.0    0.0   \n",
       "My parents have been buying cars off of Donna D...   ...       0.0    0.0   \n",
       "I recently bought another car from Donna Dunniv...   ...       0.0    0.0   \n",
       "I had to schedule an appointment due to the air...   ...       0.0    0.0   \n",
       "Leslie, Your and your team should review my cor...   ...       0.0    0.0   \n",
       "We called to ask if they had any red Escalades ...   ...       0.0    0.0   \n",
       "Update on my review. Scott the initial salesper...   ...       0.0    0.0   \n",
       "If you're planning on buying a Cadillac, See Le...   ...       0.0    0.0   \n",
       "Such a great experience! The staff were very ni...   ...       0.0    0.0   \n",
       "\n",
       "                                                    étant  étion  étoil  \\\n",
       "review                                                                    \n",
       "I arrived at 3 PM and the dealership closed at ...    0.0    0.0    0.0   \n",
       "I dropped my car off on a Wednesday morning for...    0.0    0.0    0.0   \n",
       "My parents have been buying cars off of Donna D...    0.0    0.0    0.0   \n",
       "I recently bought another car from Donna Dunniv...    0.0    0.0    0.0   \n",
       "I had to schedule an appointment due to the air...    0.0    0.0    0.0   \n",
       "Leslie, Your and your team should review my cor...    0.0    0.0    0.0   \n",
       "We called to ask if they had any red Escalades ...    0.0    0.0    0.0   \n",
       "Update on my review. Scott the initial salesper...    0.0    0.0    0.0   \n",
       "If you're planning on buying a Cadillac, See Le...    0.0    0.0    0.0   \n",
       "Such a great experience! The staff were very ni...    0.0    0.0    0.0   \n",
       "\n",
       "                                                    étrang  été  évidem  être  \\\n",
       "review                                                                          \n",
       "I arrived at 3 PM and the dealership closed at ...     0.0  0.0     0.0   0.0   \n",
       "I dropped my car off on a Wednesday morning for...     0.0  0.0     0.0   0.0   \n",
       "My parents have been buying cars off of Donna D...     0.0  0.0     0.0   0.0   \n",
       "I recently bought another car from Donna Dunniv...     0.0  0.0     0.0   0.0   \n",
       "I had to schedule an appointment due to the air...     0.0  0.0     0.0   0.0   \n",
       "Leslie, Your and your team should review my cor...     0.0  0.0     0.0   0.0   \n",
       "We called to ask if they had any red Escalades ...     0.0  0.0     0.0   0.0   \n",
       "Update on my review. Scott the initial salesper...     0.0  0.0     0.0   0.0   \n",
       "If you're planning on buying a Cadillac, See Le...     0.0  0.0     0.0   0.0   \n",
       "Such a great experience! The staff were very ni...     0.0  0.0     0.0   0.0   \n",
       "\n",
       "                                                    ïrratat  \n",
       "review                                                       \n",
       "I arrived at 3 PM and the dealership closed at ...      0.0  \n",
       "I dropped my car off on a Wednesday morning for...      0.0  \n",
       "My parents have been buying cars off of Donna D...      0.0  \n",
       "I recently bought another car from Donna Dunniv...      0.0  \n",
       "I had to schedule an appointment due to the air...      0.0  \n",
       "Leslie, Your and your team should review my cor...      0.0  \n",
       "We called to ask if they had any red Escalades ...      0.0  \n",
       "Update on my review. Scott the initial salesper...      0.0  \n",
       "If you're planning on buying a Cadillac, See Le...      0.0  \n",
       "Such a great experience! The staff were very ni...      0.0  \n",
       "\n",
       "[10 rows x 9524 columns]"
      ]
     },
     "execution_count": 14,
     "metadata": {},
     "output_type": "execute_result"
    }
   ],
   "source": [
    "# Displaying the tfidf \n",
    "Tfidf_vector=pd.DataFrame(X, index=data_all.review, columns=vect.get_feature_names())\n",
    "Tfidf_vector.head(10)"
   ]
  },
  {
   "cell_type": "markdown",
   "metadata": {},
   "source": [
    "### Classification Algorithms"
   ]
  },
  {
   "cell_type": "code",
   "execution_count": 15,
   "metadata": {
    "collapsed": true
   },
   "outputs": [],
   "source": [
    "accuracy=[]\n",
    "X_auto=X[:1454] # retrieving automotive reviews from the dataframe\n",
    "Y_auto=Y[:1454] # retrieving automotive raitgn from the dataframe\n",
    "X_bar=X[1455:] # retrieving bars reviews from the dataframe\n",
    "Y_bar=Y[1455:] # retrieving bars rating from the dataframe\n",
    "\n",
    "# spliting automotive data into test and training set\n",
    "X_train_auto, X_test_auto, y_train_auto, y_test_auto= train_test_split(X_auto, Y_auto, random_state=0,train_size = 0.7)\n",
    "\n",
    "# spliting bars data into test and training set   \n",
    "X_train_bar, X_test_bar, y_train_bar, y_test_bar= train_test_split(X_bar, Y_bar, random_state=0,train_size = 0.7)\n",
    "\n"
   ]
  },
  {
   "cell_type": "markdown",
   "metadata": {},
   "source": [
    "### SVM Classifier Automotive"
   ]
  },
  {
   "cell_type": "code",
   "execution_count": 16,
   "metadata": {
    "collapsed": true
   },
   "outputs": [],
   "source": [
    "SVM_model = svm.LinearSVC() # creating a SVM Classifier model\n",
    "model_auto = SVM_model.fit(X_train_auto,y_train_auto) # fitting automotive data on model"
   ]
  },
  {
   "cell_type": "code",
   "execution_count": 17,
   "metadata": {},
   "outputs": [
    {
     "name": "stdout",
     "output_type": "stream",
     "text": [
      "Accuracy:  92.67734553775743\n",
      "             precision    recall  f1-score   support\n",
      "\n",
      "   negative       0.91      0.84      0.87       130\n",
      "   positive       0.93      0.96      0.95       307\n",
      "\n",
      "avg / total       0.93      0.93      0.93       437\n",
      "\n",
      "Confusion Matrix\n"
     ]
    },
    {
     "data": {
      "text/html": [
       "<div>\n",
       "<style>\n",
       "    .dataframe thead tr:only-child th {\n",
       "        text-align: right;\n",
       "    }\n",
       "\n",
       "    .dataframe thead th {\n",
       "        text-align: left;\n",
       "    }\n",
       "\n",
       "    .dataframe tbody tr th {\n",
       "        vertical-align: top;\n",
       "    }\n",
       "</style>\n",
       "<table border=\"1\" class=\"dataframe\">\n",
       "  <thead>\n",
       "    <tr style=\"text-align: right;\">\n",
       "      <th>Predicted</th>\n",
       "      <th>negative</th>\n",
       "      <th>positive</th>\n",
       "      <th>All</th>\n",
       "    </tr>\n",
       "    <tr>\n",
       "      <th>Actual</th>\n",
       "      <th></th>\n",
       "      <th></th>\n",
       "      <th></th>\n",
       "    </tr>\n",
       "  </thead>\n",
       "  <tbody>\n",
       "    <tr>\n",
       "      <th>negative</th>\n",
       "      <td>109</td>\n",
       "      <td>21</td>\n",
       "      <td>130</td>\n",
       "    </tr>\n",
       "    <tr>\n",
       "      <th>positive</th>\n",
       "      <td>11</td>\n",
       "      <td>296</td>\n",
       "      <td>307</td>\n",
       "    </tr>\n",
       "    <tr>\n",
       "      <th>All</th>\n",
       "      <td>120</td>\n",
       "      <td>317</td>\n",
       "      <td>437</td>\n",
       "    </tr>\n",
       "  </tbody>\n",
       "</table>\n",
       "</div>"
      ],
      "text/plain": [
       "Predicted  negative  positive  All\n",
       "Actual                            \n",
       "negative        109        21  130\n",
       "positive         11       296  307\n",
       "All             120       317  437"
      ]
     },
     "execution_count": 17,
     "metadata": {},
     "output_type": "execute_result"
    }
   ],
   "source": [
    "# making prediction for automotive test data\n",
    "y_pred_auto = model_auto.predict(X_test_auto)\n",
    "\n",
    "# Printing the accuracy of model\n",
    "accuracy_auto_svm = metrics.accuracy_score(y_test_auto, y_pred_auto) \n",
    "print(\"Accuracy: \",str(accuracy_auto_svm*100))\n",
    "print(metrics.classification_report(y_test_auto, y_pred_auto)) # printing the precision, recall, f1 score etc for the model\n",
    "\n",
    "# Printing Comfusion Matrix\n",
    "print(\"Confusion Matrix\")\n",
    "pd.crosstab(np.array(y_test_auto), y_pred_auto, rownames=['Actual'], colnames=['Predicted'], margins=True)"
   ]
  },
  {
   "cell_type": "markdown",
   "metadata": {},
   "source": [
    "##### The SVM Classifier gives the accuracy of 92.67% for automotive data."
   ]
  },
  {
   "cell_type": "markdown",
   "metadata": {},
   "source": [
    "### Naive Bayes Classifier Automotive"
   ]
  },
  {
   "cell_type": "code",
   "execution_count": 18,
   "metadata": {
    "scrolled": true
   },
   "outputs": [
    {
     "name": "stdout",
     "output_type": "stream",
     "text": [
      "Accuracy:  67.27688787185355\n",
      "             precision    recall  f1-score   support\n",
      "\n",
      "   negative       0.46      0.65      0.54       130\n",
      "   positive       0.82      0.68      0.75       307\n",
      "\n",
      "avg / total       0.71      0.67      0.68       437\n",
      "\n",
      "Confusion Matrix\n"
     ]
    },
    {
     "data": {
      "text/html": [
       "<div>\n",
       "<style>\n",
       "    .dataframe thead tr:only-child th {\n",
       "        text-align: right;\n",
       "    }\n",
       "\n",
       "    .dataframe thead th {\n",
       "        text-align: left;\n",
       "    }\n",
       "\n",
       "    .dataframe tbody tr th {\n",
       "        vertical-align: top;\n",
       "    }\n",
       "</style>\n",
       "<table border=\"1\" class=\"dataframe\">\n",
       "  <thead>\n",
       "    <tr style=\"text-align: right;\">\n",
       "      <th>Predicted</th>\n",
       "      <th>negative</th>\n",
       "      <th>positive</th>\n",
       "      <th>All</th>\n",
       "    </tr>\n",
       "    <tr>\n",
       "      <th>Actual</th>\n",
       "      <th></th>\n",
       "      <th></th>\n",
       "      <th></th>\n",
       "    </tr>\n",
       "  </thead>\n",
       "  <tbody>\n",
       "    <tr>\n",
       "      <th>negative</th>\n",
       "      <td>84</td>\n",
       "      <td>46</td>\n",
       "      <td>130</td>\n",
       "    </tr>\n",
       "    <tr>\n",
       "      <th>positive</th>\n",
       "      <td>97</td>\n",
       "      <td>210</td>\n",
       "      <td>307</td>\n",
       "    </tr>\n",
       "    <tr>\n",
       "      <th>All</th>\n",
       "      <td>181</td>\n",
       "      <td>256</td>\n",
       "      <td>437</td>\n",
       "    </tr>\n",
       "  </tbody>\n",
       "</table>\n",
       "</div>"
      ],
      "text/plain": [
       "Predicted  negative  positive  All\n",
       "Actual                            \n",
       "negative         84        46  130\n",
       "positive         97       210  307\n",
       "All             181       256  437"
      ]
     },
     "execution_count": 18,
     "metadata": {},
     "output_type": "execute_result"
    }
   ],
   "source": [
    "Nb_model=GaussianNB() # creating naive bayes model\n",
    "model2_auto=Nb_model.fit(X_train_auto,y_train_auto) # fitting the automotive data in model\n",
    "\n",
    "# making prediction for automotive test data\n",
    "y_pred_auto = model2_auto.predict(X_test_auto)\n",
    "\n",
    "# Printing the accuracy of model\n",
    "accuracy_auto_nb = metrics.accuracy_score(y_test_auto, y_pred_auto) \n",
    "print(\"Accuracy: \",str(accuracy_auto_nb*100))\n",
    "print(metrics.classification_report(y_test_auto, y_pred_auto)) # printing the precision, recall, f1 score etc for the model\n",
    "\n",
    "# Printing Comfusion Matrix\n",
    "print(\"Confusion Matrix\")\n",
    "pd.crosstab(np.array(y_test_auto), y_pred_auto, rownames=['Actual'], colnames=['Predicted'], margins=True)"
   ]
  },
  {
   "cell_type": "markdown",
   "metadata": {},
   "source": [
    "##### The Naive Bayes Classifier give the accuracy of 67.27% for bars data."
   ]
  },
  {
   "cell_type": "markdown",
   "metadata": {},
   "source": [
    "### KNN Classifier Automotive"
   ]
  },
  {
   "cell_type": "code",
   "execution_count": 31,
   "metadata": {},
   "outputs": [
    {
     "name": "stdout",
     "output_type": "stream",
     "text": [
      "Accuracy:  82.37986270022884\n",
      "             precision    recall  f1-score   support\n",
      "\n",
      "   negative       0.78      0.56      0.65       130\n",
      "   positive       0.83      0.93      0.88       307\n",
      "\n",
      "avg / total       0.82      0.82      0.81       437\n",
      "\n",
      "Confusion Matrix\n",
      "['positive' 'positive' 'negative' 'positive' 'negative' 'positive'\n",
      " 'negative' 'positive' 'positive' 'positive' 'positive' 'positive'\n",
      " 'negative' 'negative' 'positive' 'positive' 'positive' 'positive'\n",
      " 'positive' 'negative' 'positive' 'positive' 'negative' 'positive'\n",
      " 'positive' 'negative' 'positive' 'positive' 'positive' 'positive'\n",
      " 'positive' 'positive' 'positive' 'positive' 'positive' 'positive'\n",
      " 'positive' 'positive' 'positive' 'positive' 'positive' 'positive'\n",
      " 'positive' 'negative' 'positive' 'positive' 'negative' 'negative'\n",
      " 'negative' 'positive' 'positive' 'positive' 'negative' 'positive'\n",
      " 'positive' 'positive' 'positive' 'positive' 'positive' 'positive'\n",
      " 'positive' 'positive' 'positive' 'positive' 'positive' 'positive'\n",
      " 'positive' 'positive' 'negative' 'positive' 'negative' 'positive'\n",
      " 'positive' 'positive' 'positive' 'positive' 'positive' 'positive'\n",
      " 'positive' 'positive' 'positive' 'positive' 'positive' 'negative'\n",
      " 'positive' 'positive' 'positive' 'positive' 'negative' 'positive'\n",
      " 'negative' 'positive' 'positive' 'positive' 'negative' 'positive'\n",
      " 'positive' 'positive' 'positive' 'positive' 'positive' 'negative'\n",
      " 'negative' 'positive' 'positive' 'positive' 'positive' 'positive'\n",
      " 'positive' 'positive' 'positive' 'positive' 'positive' 'positive'\n",
      " 'positive' 'positive' 'positive' 'positive' 'positive' 'positive'\n",
      " 'positive' 'positive' 'negative' 'positive' 'positive' 'positive'\n",
      " 'negative' 'positive' 'positive' 'positive' 'positive' 'negative'\n",
      " 'positive' 'positive' 'positive' 'positive' 'positive' 'negative'\n",
      " 'positive' 'positive' 'positive' 'negative' 'positive' 'positive'\n",
      " 'positive' 'positive' 'positive' 'negative' 'positive' 'negative'\n",
      " 'positive' 'negative' 'positive' 'positive' 'positive' 'positive'\n",
      " 'positive' 'positive' 'positive' 'negative' 'positive' 'positive'\n",
      " 'negative' 'positive' 'negative' 'positive' 'positive' 'positive'\n",
      " 'positive' 'negative' 'positive' 'positive' 'positive' 'negative'\n",
      " 'positive' 'positive' 'positive' 'positive' 'positive' 'positive'\n",
      " 'positive' 'positive' 'negative' 'negative' 'negative' 'negative'\n",
      " 'positive' 'positive' 'positive' 'positive' 'positive' 'positive'\n",
      " 'positive' 'negative' 'positive' 'positive' 'negative' 'negative'\n",
      " 'positive' 'positive' 'positive' 'positive' 'negative' 'positive'\n",
      " 'negative' 'positive' 'negative' 'positive' 'positive' 'positive'\n",
      " 'positive' 'positive' 'negative' 'negative' 'negative' 'positive'\n",
      " 'positive' 'positive' 'positive' 'positive' 'positive' 'negative'\n",
      " 'negative' 'negative' 'positive' 'positive' 'positive' 'positive'\n",
      " 'positive' 'positive' 'positive' 'positive' 'positive' 'negative'\n",
      " 'positive' 'positive' 'positive' 'positive' 'positive' 'positive'\n",
      " 'positive' 'positive' 'positive' 'positive' 'positive' 'negative'\n",
      " 'negative' 'negative' 'positive' 'positive' 'positive' 'positive'\n",
      " 'positive' 'positive' 'positive' 'positive' 'negative' 'negative'\n",
      " 'negative' 'positive' 'positive' 'positive' 'positive' 'positive'\n",
      " 'positive' 'positive' 'positive' 'negative' 'positive' 'positive'\n",
      " 'positive' 'positive' 'positive' 'positive' 'positive' 'positive'\n",
      " 'positive' 'positive' 'negative' 'positive' 'positive' 'positive'\n",
      " 'positive' 'positive' 'negative' 'positive' 'negative' 'positive'\n",
      " 'positive' 'positive' 'positive' 'positive' 'positive' 'positive'\n",
      " 'positive' 'positive' 'positive' 'positive' 'positive' 'negative'\n",
      " 'positive' 'positive' 'positive' 'positive' 'negative' 'negative'\n",
      " 'positive' 'positive' 'positive' 'negative' 'negative' 'positive'\n",
      " 'positive' 'positive' 'positive' 'positive' 'positive' 'positive'\n",
      " 'positive' 'positive' 'positive' 'positive' 'positive' 'negative'\n",
      " 'negative' 'negative' 'positive' 'positive' 'negative' 'positive'\n",
      " 'positive' 'positive' 'positive' 'positive' 'positive' 'positive'\n",
      " 'positive' 'positive' 'positive' 'positive' 'positive' 'positive'\n",
      " 'negative' 'positive' 'positive' 'positive' 'positive' 'positive'\n",
      " 'positive' 'negative' 'negative' 'negative' 'positive' 'negative'\n",
      " 'negative' 'positive' 'positive' 'positive' 'positive' 'positive'\n",
      " 'positive' 'positive' 'positive' 'positive' 'negative' 'positive'\n",
      " 'positive' 'negative' 'positive' 'positive' 'positive' 'negative'\n",
      " 'positive' 'negative' 'positive' 'positive' 'positive' 'positive'\n",
      " 'positive' 'negative' 'positive' 'positive' 'positive' 'positive'\n",
      " 'positive' 'positive' 'positive' 'positive' 'positive' 'positive'\n",
      " 'negative' 'positive' 'positive' 'positive' 'positive' 'negative'\n",
      " 'positive' 'positive' 'negative' 'positive' 'negative' 'negative'\n",
      " 'positive' 'positive' 'positive' 'positive' 'positive' 'negative'\n",
      " 'negative' 'negative' 'positive' 'negative' 'positive' 'positive'\n",
      " 'positive' 'positive' 'positive' 'positive' 'positive' 'positive'\n",
      " 'positive' 'positive' 'positive' 'positive' 'positive' 'positive'\n",
      " 'positive' 'negative' 'positive' 'positive' 'positive' 'positive'\n",
      " 'negative' 'negative' 'positive' 'positive' 'positive']\n"
     ]
    }
   ],
   "source": [
    "knn_model = neighbors.KNeighborsClassifier(n_neighbors=7) # creating a K-NN Classifier model with number of neighbors=7\n",
    "model3_auto=knn_model.fit(X_train_auto,y_train_auto)\n",
    "\n",
    "# making prediction for automotive test data\n",
    "y_pred_auto = model3_auto.predict(X_test_auto)\n",
    "\n",
    "# Printing the accuracy of model\n",
    "accuracy_auto_knn = metrics.accuracy_score(y_test_auto, y_pred_auto) \n",
    "print(\"Accuracy: \",str(accuracy_auto_knn*100))\n",
    "print(metrics.classification_report(y_test_auto, y_pred_auto)) # printing the precision, recall, f1 score etc for the model\n",
    "\n",
    "# Printing Comfusion Matrix\n",
    "print(\"Confusion Matrix\")\n",
    "pd.crosstab(np.array(y_test_auto), y_pred_auto, rownames=['Actual'], colnames=['Predicted'], margins=True)\n",
    "print(y_pred_auto)"
   ]
  },
  {
   "cell_type": "markdown",
   "metadata": {},
   "source": [
    "##### The Knn Classifier give the accuracy of 82.37% for bars data."
   ]
  },
  {
   "cell_type": "markdown",
   "metadata": {},
   "source": [
    "### SVM Classifier Bars"
   ]
  },
  {
   "cell_type": "code",
   "execution_count": 20,
   "metadata": {
    "collapsed": true
   },
   "outputs": [],
   "source": [
    "SVM_model=svm.LinearSVC()\n",
    "model_bars = SVM_model.fit(X_train_bar,y_train_bar) # fitting the bars data on naie bayes model"
   ]
  },
  {
   "cell_type": "code",
   "execution_count": 21,
   "metadata": {},
   "outputs": [
    {
     "name": "stdout",
     "output_type": "stream",
     "text": [
      "Accuracy:  84.28246013667426\n",
      "             precision    recall  f1-score   support\n",
      "\n",
      "   negative       0.77      0.75      0.76       146\n",
      "   positive       0.88      0.89      0.88       293\n",
      "\n",
      "avg / total       0.84      0.84      0.84       439\n",
      "\n",
      "Confusion Matrix\n"
     ]
    },
    {
     "data": {
      "text/html": [
       "<div>\n",
       "<style>\n",
       "    .dataframe thead tr:only-child th {\n",
       "        text-align: right;\n",
       "    }\n",
       "\n",
       "    .dataframe thead th {\n",
       "        text-align: left;\n",
       "    }\n",
       "\n",
       "    .dataframe tbody tr th {\n",
       "        vertical-align: top;\n",
       "    }\n",
       "</style>\n",
       "<table border=\"1\" class=\"dataframe\">\n",
       "  <thead>\n",
       "    <tr style=\"text-align: right;\">\n",
       "      <th>Predicted</th>\n",
       "      <th>negative</th>\n",
       "      <th>positive</th>\n",
       "      <th>All</th>\n",
       "    </tr>\n",
       "    <tr>\n",
       "      <th>Actual</th>\n",
       "      <th></th>\n",
       "      <th></th>\n",
       "      <th></th>\n",
       "    </tr>\n",
       "  </thead>\n",
       "  <tbody>\n",
       "    <tr>\n",
       "      <th>negative</th>\n",
       "      <td>109</td>\n",
       "      <td>37</td>\n",
       "      <td>146</td>\n",
       "    </tr>\n",
       "    <tr>\n",
       "      <th>positive</th>\n",
       "      <td>32</td>\n",
       "      <td>261</td>\n",
       "      <td>293</td>\n",
       "    </tr>\n",
       "    <tr>\n",
       "      <th>All</th>\n",
       "      <td>141</td>\n",
       "      <td>298</td>\n",
       "      <td>439</td>\n",
       "    </tr>\n",
       "  </tbody>\n",
       "</table>\n",
       "</div>"
      ],
      "text/plain": [
       "Predicted  negative  positive  All\n",
       "Actual                            \n",
       "negative        109        37  146\n",
       "positive         32       261  293\n",
       "All             141       298  439"
      ]
     },
     "execution_count": 21,
     "metadata": {},
     "output_type": "execute_result"
    }
   ],
   "source": [
    "# Making prediction for bars test data\n",
    "y_pred_bar = model_bars.predict(X_test_bar)\n",
    "\n",
    "# Printing accuracy for the bars model\n",
    "accuracy_bars_svm = metrics.accuracy_score(y_test_bar, y_pred_bar) \n",
    "print(\"Accuracy: \",str(accuracy_bars_svm*100))\n",
    "print(metrics.classification_report(y_test_bar, y_pred_bar))# printing the precision, recall, f1 score etc for the model\n",
    "\n",
    "# Printing Comfusion Matrix\n",
    "print(\"Confusion Matrix\")\n",
    "pd.crosstab(np.array(y_test_bar), y_pred_bar, rownames=['Actual'], colnames=['Predicted'], margins=True)"
   ]
  },
  {
   "cell_type": "markdown",
   "metadata": {},
   "source": [
    "##### The SVM Classifier give the accuracy of 84.28% for bars data."
   ]
  },
  {
   "cell_type": "markdown",
   "metadata": {},
   "source": [
    "### Naive Bayes Classifier Bars"
   ]
  },
  {
   "cell_type": "code",
   "execution_count": 22,
   "metadata": {},
   "outputs": [
    {
     "name": "stdout",
     "output_type": "stream",
     "text": [
      "Accuracy:  66.97038724373576\n",
      "             precision    recall  f1-score   support\n",
      "\n",
      "   negative       0.50      0.71      0.59       146\n",
      "   positive       0.82      0.65      0.72       293\n",
      "\n",
      "avg / total       0.71      0.67      0.68       439\n",
      "\n",
      "Confusion Matrix\n"
     ]
    },
    {
     "data": {
      "text/html": [
       "<div>\n",
       "<style>\n",
       "    .dataframe thead tr:only-child th {\n",
       "        text-align: right;\n",
       "    }\n",
       "\n",
       "    .dataframe thead th {\n",
       "        text-align: left;\n",
       "    }\n",
       "\n",
       "    .dataframe tbody tr th {\n",
       "        vertical-align: top;\n",
       "    }\n",
       "</style>\n",
       "<table border=\"1\" class=\"dataframe\">\n",
       "  <thead>\n",
       "    <tr style=\"text-align: right;\">\n",
       "      <th>Predicted</th>\n",
       "      <th>negative</th>\n",
       "      <th>positive</th>\n",
       "      <th>All</th>\n",
       "    </tr>\n",
       "    <tr>\n",
       "      <th>Actual</th>\n",
       "      <th></th>\n",
       "      <th></th>\n",
       "      <th></th>\n",
       "    </tr>\n",
       "  </thead>\n",
       "  <tbody>\n",
       "    <tr>\n",
       "      <th>negative</th>\n",
       "      <td>103</td>\n",
       "      <td>43</td>\n",
       "      <td>146</td>\n",
       "    </tr>\n",
       "    <tr>\n",
       "      <th>positive</th>\n",
       "      <td>102</td>\n",
       "      <td>191</td>\n",
       "      <td>293</td>\n",
       "    </tr>\n",
       "    <tr>\n",
       "      <th>All</th>\n",
       "      <td>205</td>\n",
       "      <td>234</td>\n",
       "      <td>439</td>\n",
       "    </tr>\n",
       "  </tbody>\n",
       "</table>\n",
       "</div>"
      ],
      "text/plain": [
       "Predicted  negative  positive  All\n",
       "Actual                            \n",
       "negative        103        43  146\n",
       "positive        102       191  293\n",
       "All             205       234  439"
      ]
     },
     "execution_count": 22,
     "metadata": {},
     "output_type": "execute_result"
    }
   ],
   "source": [
    "Nb_model=GaussianNB()\n",
    "model2_bars=Nb_model.fit(X_train_bar,y_train_bar)\n",
    "# Making prediction for bars test data\n",
    "y_pred_bar = model2_bars.predict(X_test_bar)\n",
    "\n",
    "# Printing accuracy for the bars model\n",
    "accuracy_bars_nb = metrics.accuracy_score(y_test_bar, y_pred_bar) \n",
    "print(\"Accuracy: \",str(accuracy_bars_nb*100))\n",
    "print(metrics.classification_report(y_test_bar, y_pred_bar))# printing the precision, recall, f1 score etc for the model\n",
    "\n",
    "# Printing Comfusion Matrix\n",
    "print(\"Confusion Matrix\")\n",
    "pd.crosstab(np.array(y_test_bar), y_pred_bar, rownames=['Actual'], colnames=['Predicted'], margins=True)"
   ]
  },
  {
   "cell_type": "markdown",
   "metadata": {},
   "source": [
    "##### The Naive Bayes Classifier give the accuracy of 66.97% for bars data.\n"
   ]
  },
  {
   "cell_type": "markdown",
   "metadata": {},
   "source": [
    "### Knn Classifier Bars"
   ]
  },
  {
   "cell_type": "code",
   "execution_count": 23,
   "metadata": {},
   "outputs": [
    {
     "name": "stdout",
     "output_type": "stream",
     "text": [
      "Accuracy:  78.5876993166287\n",
      "             precision    recall  f1-score   support\n",
      "\n",
      "   negative       0.70      0.62      0.66       146\n",
      "   positive       0.82      0.87      0.84       293\n",
      "\n",
      "avg / total       0.78      0.79      0.78       439\n",
      "\n",
      "Confusion Matrix\n"
     ]
    },
    {
     "data": {
      "text/html": [
       "<div>\n",
       "<style>\n",
       "    .dataframe thead tr:only-child th {\n",
       "        text-align: right;\n",
       "    }\n",
       "\n",
       "    .dataframe thead th {\n",
       "        text-align: left;\n",
       "    }\n",
       "\n",
       "    .dataframe tbody tr th {\n",
       "        vertical-align: top;\n",
       "    }\n",
       "</style>\n",
       "<table border=\"1\" class=\"dataframe\">\n",
       "  <thead>\n",
       "    <tr style=\"text-align: right;\">\n",
       "      <th>Predicted</th>\n",
       "      <th>negative</th>\n",
       "      <th>positive</th>\n",
       "      <th>All</th>\n",
       "    </tr>\n",
       "    <tr>\n",
       "      <th>Actual</th>\n",
       "      <th></th>\n",
       "      <th></th>\n",
       "      <th></th>\n",
       "    </tr>\n",
       "  </thead>\n",
       "  <tbody>\n",
       "    <tr>\n",
       "      <th>negative</th>\n",
       "      <td>90</td>\n",
       "      <td>56</td>\n",
       "      <td>146</td>\n",
       "    </tr>\n",
       "    <tr>\n",
       "      <th>positive</th>\n",
       "      <td>38</td>\n",
       "      <td>255</td>\n",
       "      <td>293</td>\n",
       "    </tr>\n",
       "    <tr>\n",
       "      <th>All</th>\n",
       "      <td>128</td>\n",
       "      <td>311</td>\n",
       "      <td>439</td>\n",
       "    </tr>\n",
       "  </tbody>\n",
       "</table>\n",
       "</div>"
      ],
      "text/plain": [
       "Predicted  negative  positive  All\n",
       "Actual                            \n",
       "negative         90        56  146\n",
       "positive         38       255  293\n",
       "All             128       311  439"
      ]
     },
     "execution_count": 23,
     "metadata": {},
     "output_type": "execute_result"
    }
   ],
   "source": [
    "knn_model = neighbors.KNeighborsClassifier(n_neighbors=7) # creating a K-NN Classifier model with number of neighbors=7\n",
    "model3_bars=knn_model.fit(X_train_bar,y_train_bar)\n",
    "\n",
    "# Making prediction for bars test data\n",
    "y_pred_bar = model3_bars.predict(X_test_bar)\n",
    "\n",
    "# Printing accuracy for the bars model\n",
    "accuracy_bars_knn = metrics.accuracy_score(y_test_bar, y_pred_bar) \n",
    "print(\"Accuracy: \",str(accuracy_bars_knn*100))\n",
    "print(metrics.classification_report(y_test_bar, y_pred_bar))# printing the precision, recall, f1 score etc for the model\n",
    "\n",
    "# Printing Comfusion Matrix\n",
    "print(\"Confusion Matrix\")\n",
    "pd.crosstab(np.array(y_test_bar), y_pred_bar, rownames=['Actual'], colnames=['Predicted'], margins=True)"
   ]
  },
  {
   "cell_type": "markdown",
   "metadata": {},
   "source": [
    "##### The Knn Classifier give the accuracy of 78.58 for bars data."
   ]
  },
  {
   "cell_type": "markdown",
   "metadata": {},
   "source": [
    "### Task 3:"
   ]
  },
  {
   "cell_type": "markdown",
   "metadata": {},
   "source": [
    "Since SVM performed better then Naive bayes and Knn for both automotive and bars data, Therefor using SVM for Task 3"
   ]
  },
  {
   "cell_type": "markdown",
   "metadata": {},
   "source": [
    "In this task we will check how well the classifier trained on one category of data predicts class for other category data"
   ]
  },
  {
   "cell_type": "code",
   "execution_count": 24,
   "metadata": {
    "collapsed": true
   },
   "outputs": [],
   "source": [
    "# creating a SVM Classifier model for bars\n",
    "bars_model = svm.LinearSVC() \n",
    "bar_model = bars_model.fit(X_bar,Y_bar) \n",
    "\n",
    "# creating a SVM Classifier model for automotive\n",
    "auto_model = svm.LinearSVC() \n",
    "auto_model = auto_model.fit(X_auto,Y_auto)"
   ]
  },
  {
   "cell_type": "code",
   "execution_count": 25,
   "metadata": {},
   "outputs": [
    {
     "name": "stdout",
     "output_type": "stream",
     "text": [
      "Accuracy:  78.47317744154057\n",
      "             precision    recall  f1-score   support\n",
      "\n",
      "   negative       0.62      0.92      0.74       481\n",
      "   positive       0.95      0.72      0.82       973\n",
      "\n",
      "avg / total       0.84      0.78      0.79      1454\n",
      "\n",
      "Confusion Matrix\n"
     ]
    },
    {
     "data": {
      "text/html": [
       "<div>\n",
       "<style>\n",
       "    .dataframe thead tr:only-child th {\n",
       "        text-align: right;\n",
       "    }\n",
       "\n",
       "    .dataframe thead th {\n",
       "        text-align: left;\n",
       "    }\n",
       "\n",
       "    .dataframe tbody tr th {\n",
       "        vertical-align: top;\n",
       "    }\n",
       "</style>\n",
       "<table border=\"1\" class=\"dataframe\">\n",
       "  <thead>\n",
       "    <tr style=\"text-align: right;\">\n",
       "      <th>Predicted</th>\n",
       "      <th>negative</th>\n",
       "      <th>positive</th>\n",
       "      <th>All</th>\n",
       "    </tr>\n",
       "    <tr>\n",
       "      <th>Actual</th>\n",
       "      <th></th>\n",
       "      <th></th>\n",
       "      <th></th>\n",
       "    </tr>\n",
       "  </thead>\n",
       "  <tbody>\n",
       "    <tr>\n",
       "      <th>negative</th>\n",
       "      <td>441</td>\n",
       "      <td>40</td>\n",
       "      <td>481</td>\n",
       "    </tr>\n",
       "    <tr>\n",
       "      <th>positive</th>\n",
       "      <td>273</td>\n",
       "      <td>700</td>\n",
       "      <td>973</td>\n",
       "    </tr>\n",
       "    <tr>\n",
       "      <th>All</th>\n",
       "      <td>714</td>\n",
       "      <td>740</td>\n",
       "      <td>1454</td>\n",
       "    </tr>\n",
       "  </tbody>\n",
       "</table>\n",
       "</div>"
      ],
      "text/plain": [
       "Predicted  negative  positive   All\n",
       "Actual                             \n",
       "negative        441        40   481\n",
       "positive        273       700   973\n",
       "All             714       740  1454"
      ]
     },
     "execution_count": 25,
     "metadata": {},
     "output_type": "execute_result"
    }
   ],
   "source": [
    "# predicting the automotive data rating by using bars model\n",
    "y_pred_auto = bar_model.predict(X_auto) \n",
    "\n",
    "# Print performance details\n",
    "accuracy_bars_auto = metrics.accuracy_score(Y_auto, y_pred_auto) \n",
    "print(\"Accuracy: \",str(accuracy_bars_auto*100))\n",
    "print(metrics.classification_report(Y_auto, y_pred_auto))# printing the precision, recall, f1 score etc for the model\n",
    "\n",
    "# Print confusion matrix\n",
    "print(\"Confusion Matrix\")\n",
    "pd.crosstab(np.array(Y_auto), y_pred_auto, rownames=['Actual'], colnames=['Predicted'], margins=True)"
   ]
  },
  {
   "cell_type": "markdown",
   "metadata": {},
   "source": [
    "##### The bars Svm classifer predicts the class for automotive data with accuracy of 78.47% "
   ]
  },
  {
   "cell_type": "code",
   "execution_count": 26,
   "metadata": {},
   "outputs": [
    {
     "name": "stdout",
     "output_type": "stream",
     "text": [
      "Accuracy:  80.20547945205479\n",
      "             precision    recall  f1-score   support\n",
      "\n",
      "   negative       0.81      0.64      0.71       565\n",
      "   positive       0.80      0.91      0.85       895\n",
      "\n",
      "avg / total       0.80      0.80      0.80      1460\n",
      "\n",
      "Confusion Matrix\n"
     ]
    },
    {
     "data": {
      "text/html": [
       "<div>\n",
       "<style>\n",
       "    .dataframe thead tr:only-child th {\n",
       "        text-align: right;\n",
       "    }\n",
       "\n",
       "    .dataframe thead th {\n",
       "        text-align: left;\n",
       "    }\n",
       "\n",
       "    .dataframe tbody tr th {\n",
       "        vertical-align: top;\n",
       "    }\n",
       "</style>\n",
       "<table border=\"1\" class=\"dataframe\">\n",
       "  <thead>\n",
       "    <tr style=\"text-align: right;\">\n",
       "      <th>Predicted</th>\n",
       "      <th>negative</th>\n",
       "      <th>positive</th>\n",
       "      <th>All</th>\n",
       "    </tr>\n",
       "    <tr>\n",
       "      <th>Actual</th>\n",
       "      <th></th>\n",
       "      <th></th>\n",
       "      <th></th>\n",
       "    </tr>\n",
       "  </thead>\n",
       "  <tbody>\n",
       "    <tr>\n",
       "      <th>negative</th>\n",
       "      <td>359</td>\n",
       "      <td>206</td>\n",
       "      <td>565</td>\n",
       "    </tr>\n",
       "    <tr>\n",
       "      <th>positive</th>\n",
       "      <td>83</td>\n",
       "      <td>812</td>\n",
       "      <td>895</td>\n",
       "    </tr>\n",
       "    <tr>\n",
       "      <th>All</th>\n",
       "      <td>442</td>\n",
       "      <td>1018</td>\n",
       "      <td>1460</td>\n",
       "    </tr>\n",
       "  </tbody>\n",
       "</table>\n",
       "</div>"
      ],
      "text/plain": [
       "Predicted  negative  positive   All\n",
       "Actual                             \n",
       "negative        359       206   565\n",
       "positive         83       812   895\n",
       "All             442      1018  1460"
      ]
     },
     "execution_count": 26,
     "metadata": {},
     "output_type": "execute_result"
    }
   ],
   "source": [
    "# predicting the bars data rating by using automotive model\n",
    "y_pred_bar = auto_model.predict(X_bar)\n",
    "\n",
    "# Print performance details\n",
    "accuracy_auto_bars = metrics.accuracy_score(Y_bar, y_pred_bar) \n",
    "\n",
    "print(\"Accuracy: \",str(accuracy_auto_bars*100))\n",
    "print(metrics.classification_report(Y_bar, y_pred_bar))# printing the precision, recall, f1 score etc for the model\n",
    "\n",
    "# Print confusion matrix\n",
    "print(\"Confusion Matrix\")\n",
    "pd.crosstab(np.array(Y_bar), y_pred_bar, rownames=['Actual'], colnames=['Predicted'], margins=True)"
   ]
  },
  {
   "cell_type": "markdown",
   "metadata": {},
   "source": [
    "##### The Automotive Svm classifier predicts the class of bars data with accuracy of 80.20%\n"
   ]
  },
  {
   "cell_type": "markdown",
   "metadata": {},
   "source": [
    "## Conclusion"
   ]
  },
  {
   "cell_type": "markdown",
   "metadata": {},
   "source": [
    "### Task 2: Conclusion"
   ]
  },
  {
   "cell_type": "markdown",
   "metadata": {},
   "source": [
    "##### SVM model for both the categories"
   ]
  },
  {
   "cell_type": "code",
   "execution_count": 27,
   "metadata": {},
   "outputs": [
    {
     "data": {
      "image/png": "[encoded data removed]",
      "text/plain": [
       "<Figure size 576x360 with 1 Axes>"
      ]
     },
     "metadata": {},
     "output_type": "display_data"
    }
   ],
   "source": [
    "plt.figure(figsize=(8,5))\n",
    "plt.bar([\"SVM Bars\",\"SVM Automotive\"],[accuracy_bars_svm*100,accuracy_auto_svm*100],alpha=0.75,color=['green','blue'])\n",
    "plt.ylabel(\"Accuracy\")\n",
    "plt.ylim(0,100)\n",
    "plt.title(\"SVM Classifier Accuracy for each Category\")\n",
    "plt.show()"
   ]
  },
  {
   "cell_type": "markdown",
   "metadata": {},
   "source": [
    "It is visible from above bar chart that the SVM predicted automotive data with much more accuracy than bars data"
   ]
  },
  {
   "cell_type": "code",
   "execution_count": 28,
   "metadata": {},
   "outputs": [
    {
     "data": {
      "image/png": "[encoded data removed]",
      "text/plain": [
       "<Figure size 576x360 with 1 Axes>"
      ]
     },
     "metadata": {},
     "output_type": "display_data"
    }
   ],
   "source": [
    "plt.figure(figsize=(8,5))\n",
    "plt.bar([\"Naive Bayes Bars\",\"Naive bayes Automotive\"],[accuracy_bars_nb*100,accuracy_auto_nb*100],alpha=0.75,color=['green','blue'])\n",
    "plt.ylabel(\"Accuracy\")\n",
    "plt.ylim(0,100)\n",
    "plt.title(\"Naive Bayes classifier for Each Category\")\n",
    "plt.show()"
   ]
  },
  {
   "cell_type": "markdown",
   "metadata": {},
   "source": [
    "It can be seen that Naive bayes predicted both category data with almost same accuracy. Also, Naives bayes predicted the class with lowest accuracy among all the classifiers "
   ]
  },
  {
   "cell_type": "code",
   "execution_count": 29,
   "metadata": {},
   "outputs": [
    {
     "data": {
      "image/png": "[encoded data removed]",
      "text/plain": [
       "<Figure size 576x360 with 1 Axes>"
      ]
     },
     "metadata": {},
     "output_type": "display_data"
    }
   ],
   "source": [
    "plt.figure(figsize=(8,5))\n",
    "plt.bar([\"Knn Bars\",\"Knn Automotive\"],[accuracy_bars_knn*100,accuracy_auto_knn*100],alpha=0.75,color=['green','blue'])\n",
    "plt.ylabel(\"Accuracy\")\n",
    "plt.ylim(0,100)\n",
    "plt.title(\"Knn classifier for Each Category\")\n",
    "plt.show()"
   ]
  },
  {
   "cell_type": "markdown",
   "metadata": {},
   "source": [
    "Just like other classifers, Knn perfored well for automotive data then bars data"
   ]
  },
  {
   "cell_type": "markdown",
   "metadata": {},
   "source": [
    "### Task 3 Conclusion"
   ]
  },
  {
   "cell_type": "markdown",
   "metadata": {},
   "source": [
    "##### Bar Model on Automotive data Vs. Automotive Model on Bars Data"
   ]
  },
  {
   "cell_type": "code",
   "execution_count": 30,
   "metadata": {},
   "outputs": [
    {
     "data": {
      "image/png": "[encoded data removed]",
      "text/plain": [
       "<Figure size 576x360 with 1 Axes>"
      ]
     },
     "metadata": {},
     "output_type": "display_data"
    }
   ],
   "source": [
    "plt.figure(figsize=(8,5))\n",
    "plt.bar([\"Bars Model on Automotive Data\",\"Automotive Model on Bars Data\"],[accuracy_bars_auto*100,accuracy_auto_bars*100],alpha=0.75,color=['green','blue'])\n",
    "plt.ylabel(\"Accuracy\")\n",
    "plt.ylim(0,100)\n",
    "plt.title(\"Bars Model on Automotive data Vs Automotive Model on Bars data\")\n",
    "plt.show()"
   ]
  },
  {
   "cell_type": "markdown",
   "metadata": {},
   "source": [
    "It can be seen that the accuracy of both the model dropped a bit when tested with data from other category. The accuracy drop in case of bars model (SVM Classifier) is less (from 84.28 to 78.47) than the accuracy drop in case of automotive model (SVM Classifier) (from 92.67 to 80.20). Despite being more drop in accuracy in case of automotive model, it out perform the bars model in both the cases ( when tested with same category data and when tested with other category data)"
   ]
  }
 ],
 "metadata": {
  "kernelspec": {
   "display_name": "Python 3",
   "language": "python",
   "name": "python3"
  },
  "language_info": {
   "codemirror_mode": {
    "name": "ipython",
    "version": 3
   },
   "file_extension": ".py",
   "mimetype": "text/x-python",
   "name": "python",
   "nbconvert_exporter": "python",
   "pygments_lexer": "ipython3",
   "version": "3.6.8"
  }
 },
 "nbformat": 4,
 "nbformat_minor": 2
}
